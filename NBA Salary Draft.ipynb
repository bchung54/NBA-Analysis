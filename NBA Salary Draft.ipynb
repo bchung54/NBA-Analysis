{
 "cells": [
  {
   "cell_type": "code",
   "execution_count": 1,
   "metadata": {},
   "outputs": [],
   "source": [
    "%matplotlib inline \n",
    "\n",
    "import numpy as np # imports a fast numerical programming library\n",
    "import scipy as sp #imports stats functions, amongst other things\n",
    "import matplotlib as mpl # this actually imports matplotlib\n",
    "import matplotlib.cm as cm #allows us easy access to colormaps\n",
    "import matplotlib.pyplot as plt #sets up plotting under plt\n",
    "import pandas as pd #lets us handle data as dataframes"
   ]
  },
  {
   "cell_type": "code",
   "execution_count": 2,
   "metadata": {},
   "outputs": [
    {
     "data": {
      "text/html": [
       "<div>\n",
       "<style scoped>\n",
       "    .dataframe tbody tr th:only-of-type {\n",
       "        vertical-align: middle;\n",
       "    }\n",
       "\n",
       "    .dataframe tbody tr th {\n",
       "        vertical-align: top;\n",
       "    }\n",
       "\n",
       "    .dataframe thead th {\n",
       "        text-align: right;\n",
       "    }\n",
       "</style>\n",
       "<table border=\"1\" class=\"dataframe\">\n",
       "  <thead>\n",
       "    <tr style=\"text-align: right;\">\n",
       "      <th></th>\n",
       "      <th>YearEnd</th>\n",
       "      <th>Team</th>\n",
       "      <th>Player</th>\n",
       "      <th>Salary</th>\n",
       "      <th>BelowMin</th>\n",
       "      <th>Unnamed: 5</th>\n",
       "    </tr>\n",
       "  </thead>\n",
       "  <tbody>\n",
       "    <tr>\n",
       "      <th>0</th>\n",
       "      <td>2017</td>\n",
       "      <td>Atlanta Hawks</td>\n",
       "      <td>Dwight Howard</td>\n",
       "      <td>23,180,275</td>\n",
       "      <td>NaN</td>\n",
       "      <td>1</td>\n",
       "    </tr>\n",
       "    <tr>\n",
       "      <th>1</th>\n",
       "      <td>2017</td>\n",
       "      <td>Atlanta Hawks</td>\n",
       "      <td>Paul Millsap</td>\n",
       "      <td>20,072,033</td>\n",
       "      <td>NaN</td>\n",
       "      <td>2</td>\n",
       "    </tr>\n",
       "    <tr>\n",
       "      <th>2</th>\n",
       "      <td>2017</td>\n",
       "      <td>Atlanta Hawks</td>\n",
       "      <td>Kent Bazemore</td>\n",
       "      <td>15,730,338</td>\n",
       "      <td>NaN</td>\n",
       "      <td>0</td>\n",
       "    </tr>\n",
       "    <tr>\n",
       "      <th>3</th>\n",
       "      <td>2017</td>\n",
       "      <td>Atlanta Hawks</td>\n",
       "      <td>Tiago Splitter</td>\n",
       "      <td>8,550,000</td>\n",
       "      <td>NaN</td>\n",
       "      <td>0</td>\n",
       "    </tr>\n",
       "    <tr>\n",
       "      <th>4</th>\n",
       "      <td>2017</td>\n",
       "      <td>Atlanta Hawks</td>\n",
       "      <td>Kyle Korver</td>\n",
       "      <td>5,239,437</td>\n",
       "      <td>NaN</td>\n",
       "      <td>0</td>\n",
       "    </tr>\n",
       "  </tbody>\n",
       "</table>\n",
       "</div>"
      ],
      "text/plain": [
       "   YearEnd           Team          Player        Salary  BelowMin  Unnamed: 5\n",
       "0     2017  Atlanta Hawks   Dwight Howard    23,180,275       NaN           1\n",
       "1     2017  Atlanta Hawks    Paul Millsap    20,072,033       NaN           2\n",
       "2     2017  Atlanta Hawks   Kent Bazemore    15,730,338       NaN           0\n",
       "3     2017  Atlanta Hawks  Tiago Splitter     8,550,000       NaN           0\n",
       "4     2017  Atlanta Hawks     Kyle Korver     5,239,437       NaN           0"
      ]
     },
     "execution_count": 2,
     "metadata": {},
     "output_type": "execute_result"
    }
   ],
   "source": [
    "salaries = pd.read_csv(\"C:/Users/brian/Downloads/NBA_Salary_History - HistoryFormatted.csv\")\n",
    "salaries.head()"
   ]
  },
  {
   "cell_type": "code",
   "execution_count": 3,
   "metadata": {},
   "outputs": [
    {
     "data": {
      "text/plain": [
       "YearEnd        int64\n",
       "Team          object\n",
       "Player        object\n",
       " Salary       object\n",
       "BelowMin      object\n",
       "Unnamed: 5     int64\n",
       "dtype: object"
      ]
     },
     "execution_count": 3,
     "metadata": {},
     "output_type": "execute_result"
    }
   ],
   "source": [
    "salaries.dtypes"
   ]
  },
  {
   "cell_type": "code",
   "execution_count": 4,
   "metadata": {},
   "outputs": [
    {
     "data": {
      "text/plain": [
       "Index(['YearEnd', 'Team', 'Player', ' Salary ', 'BelowMin', 'Unnamed: 5'], dtype='object')"
      ]
     },
     "execution_count": 4,
     "metadata": {},
     "output_type": "execute_result"
    }
   ],
   "source": [
    "salaries.columns"
   ]
  },
  {
   "cell_type": "code",
   "execution_count": 5,
   "metadata": {},
   "outputs": [],
   "source": [
    "salaries.columns = ['year_end', 'team', 'player', 'salary', 'below_min', 'extra']"
   ]
  },
  {
   "cell_type": "code",
   "execution_count": 6,
   "metadata": {},
   "outputs": [
    {
     "data": {
      "text/html": [
       "<div>\n",
       "<style scoped>\n",
       "    .dataframe tbody tr th:only-of-type {\n",
       "        vertical-align: middle;\n",
       "    }\n",
       "\n",
       "    .dataframe tbody tr th {\n",
       "        vertical-align: top;\n",
       "    }\n",
       "\n",
       "    .dataframe thead th {\n",
       "        text-align: right;\n",
       "    }\n",
       "</style>\n",
       "<table border=\"1\" class=\"dataframe\">\n",
       "  <thead>\n",
       "    <tr style=\"text-align: right;\">\n",
       "      <th></th>\n",
       "      <th>year_end</th>\n",
       "      <th>team</th>\n",
       "      <th>player</th>\n",
       "      <th>salary</th>\n",
       "      <th>below_min</th>\n",
       "      <th>extra</th>\n",
       "    </tr>\n",
       "  </thead>\n",
       "  <tbody>\n",
       "    <tr>\n",
       "      <th>0</th>\n",
       "      <td>2017</td>\n",
       "      <td>Atlanta Hawks</td>\n",
       "      <td>Dwight Howard</td>\n",
       "      <td>23,180,275</td>\n",
       "      <td>NaN</td>\n",
       "      <td>1</td>\n",
       "    </tr>\n",
       "    <tr>\n",
       "      <th>1</th>\n",
       "      <td>2017</td>\n",
       "      <td>Atlanta Hawks</td>\n",
       "      <td>Paul Millsap</td>\n",
       "      <td>20,072,033</td>\n",
       "      <td>NaN</td>\n",
       "      <td>2</td>\n",
       "    </tr>\n",
       "    <tr>\n",
       "      <th>2</th>\n",
       "      <td>2017</td>\n",
       "      <td>Atlanta Hawks</td>\n",
       "      <td>Kent Bazemore</td>\n",
       "      <td>15,730,338</td>\n",
       "      <td>NaN</td>\n",
       "      <td>0</td>\n",
       "    </tr>\n",
       "    <tr>\n",
       "      <th>3</th>\n",
       "      <td>2017</td>\n",
       "      <td>Atlanta Hawks</td>\n",
       "      <td>Tiago Splitter</td>\n",
       "      <td>8,550,000</td>\n",
       "      <td>NaN</td>\n",
       "      <td>0</td>\n",
       "    </tr>\n",
       "    <tr>\n",
       "      <th>4</th>\n",
       "      <td>2017</td>\n",
       "      <td>Atlanta Hawks</td>\n",
       "      <td>Kyle Korver</td>\n",
       "      <td>5,239,437</td>\n",
       "      <td>NaN</td>\n",
       "      <td>0</td>\n",
       "    </tr>\n",
       "  </tbody>\n",
       "</table>\n",
       "</div>"
      ],
      "text/plain": [
       "   year_end           team          player         salary below_min  extra\n",
       "0      2017  Atlanta Hawks   Dwight Howard    23,180,275        NaN      1\n",
       "1      2017  Atlanta Hawks    Paul Millsap    20,072,033        NaN      2\n",
       "2      2017  Atlanta Hawks   Kent Bazemore    15,730,338        NaN      0\n",
       "3      2017  Atlanta Hawks  Tiago Splitter     8,550,000        NaN      0\n",
       "4      2017  Atlanta Hawks     Kyle Korver     5,239,437        NaN      0"
      ]
     },
     "execution_count": 6,
     "metadata": {},
     "output_type": "execute_result"
    }
   ],
   "source": [
    "salaries.head()"
   ]
  },
  {
   "cell_type": "code",
   "execution_count": 7,
   "metadata": {},
   "outputs": [
    {
     "data": {
      "text/plain": [
       "year_end      int64\n",
       "team         object\n",
       "player       object\n",
       "salary       object\n",
       "below_min    object\n",
       "extra         int64\n",
       "dtype: object"
      ]
     },
     "execution_count": 7,
     "metadata": {},
     "output_type": "execute_result"
    }
   ],
   "source": [
    "salaries.dtypes"
   ]
  },
  {
   "cell_type": "code",
   "execution_count": 8,
   "metadata": {},
   "outputs": [],
   "source": [
    "salaries['salary'].replace(regex=True,inplace=True,to_replace=r'\\D',value=r'')"
   ]
  },
  {
   "cell_type": "code",
   "execution_count": 23,
   "metadata": {},
   "outputs": [],
   "source": [
    "salaries['salary'] = salaries['salary'].apply(pd.to_numeric)\n",
    "salaries['salary'] = salaries['salary'].fillna(0.0).astype(int)"
   ]
  },
  {
   "cell_type": "code",
   "execution_count": 25,
   "metadata": {},
   "outputs": [
    {
     "data": {
      "text/html": [
       "<div>\n",
       "<style scoped>\n",
       "    .dataframe tbody tr th:only-of-type {\n",
       "        vertical-align: middle;\n",
       "    }\n",
       "\n",
       "    .dataframe tbody tr th {\n",
       "        vertical-align: top;\n",
       "    }\n",
       "\n",
       "    .dataframe thead th {\n",
       "        text-align: right;\n",
       "    }\n",
       "</style>\n",
       "<table border=\"1\" class=\"dataframe\">\n",
       "  <thead>\n",
       "    <tr style=\"text-align: right;\">\n",
       "      <th></th>\n",
       "      <th>year_end</th>\n",
       "      <th>team</th>\n",
       "      <th>player</th>\n",
       "      <th>salary</th>\n",
       "      <th>below_min</th>\n",
       "      <th>extra</th>\n",
       "    </tr>\n",
       "  </thead>\n",
       "  <tbody>\n",
       "    <tr>\n",
       "      <th>83</th>\n",
       "      <td>2017</td>\n",
       "      <td>Cleveland Cavaliers</td>\n",
       "      <td>LeBron James</td>\n",
       "      <td>30963450</td>\n",
       "      <td>NaN</td>\n",
       "      <td>0</td>\n",
       "    </tr>\n",
       "    <tr>\n",
       "      <th>1830</th>\n",
       "      <td>2014</td>\n",
       "      <td>Los Angeles Lakers</td>\n",
       "      <td>Kobe Bryant</td>\n",
       "      <td>30453805</td>\n",
       "      <td>NaN</td>\n",
       "      <td>0</td>\n",
       "    </tr>\n",
       "    <tr>\n",
       "      <th>9443</th>\n",
       "      <td>1998</td>\n",
       "      <td>Chicago Bulls</td>\n",
       "      <td>Michael Jordan</td>\n",
       "      <td>33140000</td>\n",
       "      <td>NaN</td>\n",
       "      <td>16</td>\n",
       "    </tr>\n",
       "    <tr>\n",
       "      <th>9896</th>\n",
       "      <td>1997</td>\n",
       "      <td>Chicago Bulls</td>\n",
       "      <td>Michael Jordan</td>\n",
       "      <td>30140000</td>\n",
       "      <td>NaN</td>\n",
       "      <td>17</td>\n",
       "    </tr>\n",
       "  </tbody>\n",
       "</table>\n",
       "</div>"
      ],
      "text/plain": [
       "      year_end                 team          player    salary below_min  extra\n",
       "83        2017  Cleveland Cavaliers    LeBron James  30963450       NaN      0\n",
       "1830      2014   Los Angeles Lakers     Kobe Bryant  30453805       NaN      0\n",
       "9443      1998        Chicago Bulls  Michael Jordan  33140000       NaN     16\n",
       "9896      1997        Chicago Bulls  Michael Jordan  30140000       NaN     17"
      ]
     },
     "execution_count": 25,
     "metadata": {},
     "output_type": "execute_result"
    }
   ],
   "source": [
    "salaries[salaries['salary'] > 30000000]"
   ]
  },
  {
   "cell_type": "code",
   "execution_count": null,
   "metadata": {},
   "outputs": [],
   "source": [
    "drafts = pd.read_csv(\"C:/Users/brian/Downloads/NBA\")"
   ]
  }
 ],
 "metadata": {
  "kernelspec": {
   "display_name": "Python 3",
   "language": "python",
   "name": "python3"
  },
  "language_info": {
   "codemirror_mode": {
    "name": "ipython",
    "version": 3
   },
   "file_extension": ".py",
   "mimetype": "text/x-python",
   "name": "python",
   "nbconvert_exporter": "python",
   "pygments_lexer": "ipython3",
   "version": "3.7.3"
  }
 },
 "nbformat": 4,
 "nbformat_minor": 2
}
